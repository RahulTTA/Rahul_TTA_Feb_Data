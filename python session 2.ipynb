{
 "cells": [
  {
   "cell_type": "markdown",
   "metadata": {},
   "source": [
    "If, If Else and Else"
   ]
  },
  {
   "cell_type": "code",
   "execution_count": null,
   "metadata": {
    "tags": []
   },
   "outputs": [],
   "source": [
    "menuOption=int(input(\"Select an option 1,2 or 3\"))\n",
    "\n",
    "if (menuOption==1):\n",
    "    print (\"These are all the Running Trainers\")\n",
    "elif(menuOption==2):\n",
    "    print (\"These are all the Classics\")\n",
    "elif(menuOption==3):\n",
    "    print (\"These are all the Boots and Shoes\")\n",
    "else:\n",
    "    print (\"You didn’t choose the correct option\")"
   ]
  },
  {
   "cell_type": "markdown",
   "metadata": {},
   "source": [
    "## Imbedded Tasks <br>\n",
    "For Loops:"
   ]
  },
  {
   "cell_type": "code",
   "execution_count": null,
   "metadata": {
    "tags": []
   },
   "outputs": [],
   "source": [
    "for i in range(10):\n",
    "    for j in range(10):\n",
    "        print(\"i:\", i, \"j:\", j) \n",
    "    print(\"start of the next loop\")"
   ]
  },
  {
   "cell_type": "markdown",
   "metadata": {},
   "source": [
    "If Statements"
   ]
  },
  {
   "cell_type": "code",
   "execution_count": null,
   "metadata": {
    "tags": []
   },
   "outputs": [],
   "source": [
    "number1 = 1\n",
    "number2 = 3\n",
    "number3 = 4\n",
    "\n",
    "if number1 == 1:\n",
    "    if number2 == 3:\n",
    "        print(\"Both numbers match up\")\n",
    "        if number3 == 4:\n",
    "            print(\"I'm going deeper into this line!\")\n",
    "        else:\n",
    "            \n",
    "    else:\n",
    "        print(\"First number matches but not the second\")\n",
    "else:\n",
    "    if number2 == 2:\n",
    "        print(\"Only the second numbers match up\")\n",
    "    else:\n",
    "        print(\"None match\") "
   ]
  },
  {
   "cell_type": "markdown",
   "metadata": {},
   "source": [
    "## Logical Operators <br>\n",
    "and: Returns true if both conditions are met <br>\n",
    "or : Returns true if both or one condition is met <br>\n",
    "not: Returns the opposite to the returned value"
   ]
  },
  {
   "cell_type": "code",
   "execution_count": null,
   "metadata": {
    "tags": []
   },
   "outputs": [],
   "source": [
    "age = int(input(\"What is your age?: \"))\n",
    "\n",
    "if (age > 17) and (age <= 50):\n",
    "    print(\"You can learn to drive\")\n",
    "elif age > 50 and age <60:\n",
    "    print(\"You can learn to drive, but better learn soon!\")\n",
    "else:\n",
    "    print(\"You cannot learn to drive\")"
   ]
  },
  {
   "cell_type": "code",
   "execution_count": null,
   "metadata": {
    "tags": []
   },
   "outputs": [],
   "source": [
    "number = int(input(\"Enter a number smaller than 10: \"))\n",
    "\n",
    "if number == 1 or number == 3 or number == 5 or number  == 7 or number == 9:\n",
    "    print(\"You entered an ODD number\")\n",
    "else:\n",
    "    print(\"You entered an EVEN number\")"
   ]
  },
  {
   "cell_type": "markdown",
   "metadata": {},
   "source": [
    "## Functions and Procedures <br>\n",
    "Both functions and Procedures are created the same.<br>\n",
    "Procedures will just carry out the action.\n",
    "Functions return a value."
   ]
  },
  {
   "cell_type": "code",
   "execution_count": null,
   "metadata": {},
   "outputs": [],
   "source": [
    "def procedure_1():\n",
    "    name = input(\"What is your name? \")\n",
    "    age  = int(input(\"What is your age? \"))\n",
    "\n",
    "    print(\"Hello\", name + \"! You will be\", age + 1, \"For your next birthday!\")"
   ]
  },
  {
   "cell_type": "code",
   "execution_count": null,
   "metadata": {
    "tags": []
   },
   "outputs": [],
   "source": [
    "procedure_1()"
   ]
  },
  {
   "cell_type": "markdown",
   "metadata": {},
   "source": [
    "Lets create a Function. The difference with these is that they return a value."
   ]
  },
  {
   "cell_type": "code",
   "execution_count": null,
   "metadata": {},
   "outputs": [],
   "source": [
    "def function_1():\n",
    "    name = input(\"What is your name? \")\n",
    "    age  = int(input(\"What is your age? \"))\n",
    "\n",
    "    output = \"Hello \" + name + \"! You will be \" + str(age + 1) + \" For your next birthday!\"\n",
    "\n",
    "    return output"
   ]
  },
  {
   "cell_type": "code",
   "execution_count": null,
   "metadata": {
    "tags": []
   },
   "outputs": [],
   "source": [
    "message = function_1()"
   ]
  },
  {
   "cell_type": "code",
   "execution_count": null,
   "metadata": {},
   "outputs": [],
   "source": [
    "print(message)"
   ]
  },
  {
   "cell_type": "markdown",
   "metadata": {},
   "source": [
    "Parameter Passing"
   ]
  },
  {
   "cell_type": "code",
   "execution_count": null,
   "metadata": {},
   "outputs": [],
   "source": [
    "def procedure_2(inp_name,inp_age):  # think as placeholders\n",
    "    print(\"Hello\", inp_name + \"! You will be \", str(inp_age + 1), \"For your next birthday!\")"
   ]
  },
  {
   "cell_type": "code",
   "execution_count": null,
   "metadata": {
    "tags": []
   },
   "outputs": [],
   "source": [
    "name = input(\"What is your name? \") # goes into placeholder 1\n",
    "age  = int(input(\"What is your age? \")) # goes into placeholder 2"
   ]
  },
  {
   "cell_type": "code",
   "execution_count": null,
   "metadata": {},
   "outputs": [],
   "source": [
    "procedure_2(name, age)"
   ]
  },
  {
   "cell_type": "code",
   "execution_count": null,
   "metadata": {},
   "outputs": [],
   "source": [
    "name1 = \"Joe Bloggs\" # reusable code now passing these constant values in \n",
    "age1 = 23"
   ]
  },
  {
   "cell_type": "code",
   "execution_count": null,
   "metadata": {},
   "outputs": [],
   "source": [
    "procedure_2(name1, age1)"
   ]
  },
  {
   "cell_type": "markdown",
   "metadata": {},
   "source": [
    "It is important that the order the values are passed in match the order the function/procedure requires them."
   ]
  },
  {
   "cell_type": "code",
   "execution_count": null,
   "metadata": {},
   "outputs": [],
   "source": [
    "procedure_2(age,name)\n"
   ]
  },
  {
   "cell_type": "markdown",
   "metadata": {},
   "source": [
    "Functions/Parameters can call other functions/parameters"
   ]
  },
  {
   "cell_type": "code",
   "execution_count": null,
   "metadata": {},
   "outputs": [],
   "source": [
    "def function_3(): # returning the output the script \n",
    "    name = input(\"What is your name? \")\n",
    "    age  = int(input(\"What is your age? \"))\n",
    "\n",
    "    output = \"Hello \" + name + \"! You will be \" + str(age + 1) + \" For your next birthday!\"\n",
    "\n",
    "    return output\n",
    "\n"
   ]
  },
  {
   "cell_type": "code",
   "execution_count": null,
   "metadata": {},
   "outputs": [],
   "source": [
    "message = function_3() # saves to a variable name and then you run that \n",
    "print(message)"
   ]
  },
  {
   "cell_type": "code",
   "execution_count": null,
   "metadata": {},
   "outputs": [],
   "source": [
    "print(message)  # cannot do that with a procedure as it does not get stored in memeory "
   ]
  },
  {
   "cell_type": "code",
   "execution_count": null,
   "metadata": {},
   "outputs": [],
   "source": [
    "def procedure_3(): # function 3 stored inside a procedure \n",
    "    \n",
    "    message = function_3()\n",
    "\n",
    "    print(message)\n"
   ]
  },
  {
   "cell_type": "code",
   "execution_count": null,
   "metadata": {},
   "outputs": [],
   "source": [
    "procedure_3()"
   ]
  },
  {
   "cell_type": "markdown",
   "metadata": {},
   "source": [
    "**PSEUDOCODE!!!**"
   ]
  }
 ],
 "metadata": {
  "interpreter": {
   "hash": "4853882b697e6b0431e01bed671aeb3a0e9ddaa05d67de9c41ea02ac68e863a0"
  },
  "kernelspec": {
   "display_name": "Python 3",
   "language": "python",
   "name": "python3"
  },
  "language_info": {
   "codemirror_mode": {
    "name": "ipython",
    "version": 3
   },
   "file_extension": ".py",
   "mimetype": "text/x-python",
   "name": "python",
   "nbconvert_exporter": "python",
   "pygments_lexer": "ipython3",
   "version": "3.7.4"
  }
 },
 "nbformat": 4,
 "nbformat_minor": 4
}
