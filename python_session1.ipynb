{
 "cells": [
  {
   "cell_type": "markdown",
   "metadata": {},
   "source": [
    "## Variables"
   ]
  },
  {
   "cell_type": "code",
   "execution_count": 4,
   "metadata": {},
   "outputs": [],
   "source": [
    "user_name       = \"Andy\"\n",
    "price_per_litre = 1.14\n",
    "\n",
    "userName      = \"Sat\"\n",
    "pricePerLitre = 1\n",
    "\n",
    "UserName      = \"Suzannah\"\n",
    "PricePerLitre = 1.12"
   ]
  },
  {
   "cell_type": "code",
   "execution_count": 6,
   "metadata": {
    "tags": []
   },
   "outputs": [
    {
     "name": "stdout",
     "output_type": "stream",
     "text": [
      "user_name = Andy\n",
      "price_per_litre = 1\n"
     ]
    }
   ],
   "source": [
    "print(\"user_name =\", user_name)\n",
    "print(\"price_per_litre =\", pricePerLitre)"
   ]
  },
  {
   "cell_type": "code",
   "execution_count": 7,
   "metadata": {
    "tags": []
   },
   "outputs": [
    {
     "name": "stdout",
     "output_type": "stream",
     "text": [
      "userName = Sat\n",
      "pricePerLitre = 1\n"
     ]
    }
   ],
   "source": [
    "print(\"userName =\", userName)\n",
    "print(\"pricePerLitre =\", pricePerLitre)"
   ]
  },
  {
   "cell_type": "code",
   "execution_count": 33,
   "metadata": {
    "tags": []
   },
   "outputs": [
    {
     "name": "stdout",
     "output_type": "stream",
     "text": [
      "The value that was in the UserName is: Suzannah Here is some other info 1.12 12 Satinder 1.14\n",
      "price_per_litre = 1.12\n"
     ]
    }
   ],
   "source": [
    "print(\"The value that was in the UserName is:\", UserName, \"Here is some other info\", PricePerLitre, 12, user_name, price_per_litre)\n",
    "print(\"price_per_litre =\", PricePerLitre)"
   ]
  },
  {
   "cell_type": "code",
   "execution_count": 9,
   "metadata": {},
   "outputs": [],
   "source": [
    "user_name = \"Satinder\""
   ]
  },
  {
   "cell_type": "code",
   "execution_count": 10,
   "metadata": {},
   "outputs": [
    {
     "name": "stdout",
     "output_type": "stream",
     "text": [
      "The name that is in the variable is: Satinder\n"
     ]
    }
   ],
   "source": [
    "print(\"The name that is in the variable is:\", user_name)"
   ]
  },
  {
   "cell_type": "markdown",
   "metadata": {},
   "source": [
    "## Data Types"
   ]
  },
  {
   "cell_type": "code",
   "execution_count": null,
   "metadata": {},
   "outputs": [],
   "source": [
    "data_type_1 = \"iPhone 12\" # String\n",
    "data_type_2 = 3           # Integer\n",
    "data_type_3 = 3.65        # Float\n",
    "data_type_4 = True        # Boolean (True/False)"
   ]
  },
  {
   "cell_type": "code",
   "execution_count": null,
   "metadata": {},
   "outputs": [],
   "source": [
    "data_type_1"
   ]
  },
  {
   "cell_type": "markdown",
   "metadata": {},
   "source": [
    "## Syntax Error"
   ]
  },
  {
   "cell_type": "code",
   "execution_count": 29,
   "metadata": {},
   "outputs": [],
   "source": [
    "user__name = 1"
   ]
  },
  {
   "cell_type": "code",
   "execution_count": 30,
   "metadata": {},
   "outputs": [
    {
     "name": "stdout",
     "output_type": "stream",
     "text": [
      "1\n"
     ]
    }
   ],
   "source": [
    "print(user_name)"
   ]
  },
  {
   "cell_type": "code",
   "execution_count": 34,
   "metadata": {},
   "outputs": [
    {
     "name": "stdout",
     "output_type": "stream",
     "text": [
      "Hello World!\n"
     ]
    }
   ],
   "source": [
    "print(\"Hello World!\")"
   ]
  },
  {
   "cell_type": "code",
   "execution_count": 35,
   "metadata": {},
   "outputs": [
    {
     "name": "stdout",
     "output_type": "stream",
     "text": [
      "Hello World!\n"
     ]
    }
   ],
   "source": [
    "print(\"Hello World!\")"
   ]
  },
  {
   "cell_type": "code",
   "execution_count": 36,
   "metadata": {},
   "outputs": [
    {
     "ename": "SyntaxError",
     "evalue": "EOL while scanning string literal (<ipython-input-36-eb8b44827d41>, line 1)",
     "output_type": "error",
     "traceback": [
      "\u001b[0;36m  File \u001b[0;32m\"<ipython-input-36-eb8b44827d41>\"\u001b[0;36m, line \u001b[0;32m1\u001b[0m\n\u001b[0;31m    print (\"Hello World)\u001b[0m\n\u001b[0m                         ^\u001b[0m\n\u001b[0;31mSyntaxError\u001b[0m\u001b[0;31m:\u001b[0m EOL while scanning string literal\n"
     ]
    }
   ],
   "source": [
    "print (\"Hello World\") "
   ]
  },
  {
   "cell_type": "code",
   "execution_count": null,
   "metadata": {},
   "outputs": [],
   "source": [
    "print(\"Hello World!\")"
   ]
  },
  {
   "cell_type": "code",
   "execution_count": 43,
   "metadata": {},
   "outputs": [
    {
     "name": "stdout",
     "output_type": "stream",
     "text": [
      "22\n"
     ]
    }
   ],
   "source": [
    "a = 10\n",
    "b = 12\n",
    "print(a + b)"
   ]
  },
  {
   "cell_type": "code",
   "execution_count": 48,
   "metadata": {},
   "outputs": [
    {
     "name": "stdout",
     "output_type": "stream",
     "text": [
      "THis is a big number 41.857142857142854 This is the end of it\n"
     ]
    }
   ],
   "source": [
    "print(\"THis is a big number\", 5 + 6 / 7 + int(\"3\") * b, \"This is the end of it\")"
   ]
  },
  {
   "cell_type": "markdown",
   "metadata": {},
   "source": [
    "## Math Operators"
   ]
  },
  {
   "cell_type": "markdown",
   "metadata": {},
   "source": [
    "\\+ : This is to add <br>\n",
    "\\- : This is to subtrack <br>\n",
    "\\* : This is to multiply <br>\n",
    "/ : This is to divide <br>\n",
    "//: This is to divide and show the integer value <br>\n",
    "% : This shows the remainder value <br>\n",
    "\\**: This will do a multiplication to the power of <br>   \n"
   ]
  },
  {
   "cell_type": "code",
   "execution_count": 50,
   "metadata": {
    "tags": []
   },
   "outputs": [
    {
     "name": "stdout",
     "output_type": "stream",
     "text": [
      "10\n"
     ]
    }
   ],
   "source": [
    "numbers = 2+2+2+2+2\n",
    "print(numbers)"
   ]
  },
  {
   "cell_type": "code",
   "execution_count": 51,
   "metadata": {},
   "outputs": [
    {
     "name": "stdout",
     "output_type": "stream",
     "text": [
      "48\n"
     ]
    }
   ],
   "source": [
    "print(8*6)"
   ]
  },
  {
   "cell_type": "code",
   "execution_count": 52,
   "metadata": {},
   "outputs": [
    {
     "name": "stdout",
     "output_type": "stream",
     "text": [
      "11\n"
     ]
    }
   ],
   "source": [
    "print(10-5+6)"
   ]
  },
  {
   "cell_type": "code",
   "execution_count": 53,
   "metadata": {},
   "outputs": [
    {
     "name": "stdout",
     "output_type": "stream",
     "text": [
      "4\n"
     ]
    }
   ],
   "source": [
    "print(2+2)"
   ]
  },
  {
   "cell_type": "code",
   "execution_count": 54,
   "metadata": {},
   "outputs": [
    {
     "name": "stdout",
     "output_type": "stream",
     "text": [
      "4.5\n",
      "4\n",
      "1\n"
     ]
    }
   ],
   "source": [
    "print (9/2)\n",
    "print (9//2)\n",
    "print (9%2)"
   ]
  },
  {
   "cell_type": "markdown",
   "metadata": {},
   "source": [
    "## Sequencing"
   ]
  },
  {
   "cell_type": "code",
   "execution_count": 61,
   "metadata": {},
   "outputs": [
    {
     "name": "stdout",
     "output_type": "stream",
     "text": [
      "Hello Mrs.... Gray\n"
     ]
    }
   ],
   "source": [
    "\n",
    "print(\"Hello Mrs....\", surname)\n",
    "surname = \"Gray\""
   ]
  },
  {
   "cell_type": "markdown",
   "metadata": {},
   "source": [
    "## Selection"
   ]
  },
  {
   "cell_type": "markdown",
   "metadata": {},
   "source": [
    "### Comparison Operators <br>\n",
    "<br>\n",
    "\n",
    "== : value 1's content is the same as the comparrison <br>\n",
    "\\!= : value 1's content is not the same as the comparrison <br>\n",
    "<  : Less than <br>\n",
    "\\>  : Greater than <br>\n",
    "<=  : Less than or equals to<br>\n",
    "\\>=  : Greater than or equals to <br>\n"
   ]
  },
  {
   "cell_type": "markdown",
   "metadata": {},
   "source": [
    "Can be done with just the values:"
   ]
  },
  {
   "cell_type": "code",
   "execution_count": 67,
   "metadata": {},
   "outputs": [
    {
     "name": "stdout",
     "output_type": "stream",
     "text": [
      "x is a different number\n"
     ]
    }
   ],
   "source": [
    "x = 5\n",
    "\n",
    "if x == 1:\n",
    "    print(\"the number is 1\")\n",
    "    print(\"Yo\")\n",
    "    print(\"Yo\")\n",
    "    print(\"Yo\")\n",
    "elif x == 2:\n",
    "    print(\"the number is 2\")\n",
    "    print(\"Yo\")\n",
    "elif x == 4:\n",
    "    print(\"2 for the second time\")\n",
    "    print(\"Yo\")\n",
    "    print(\"Yo\")\n",
    "    print(\"Yo\")\n",
    "    print(\"Yo\")\n",
    "    print(\"Yo\")\n",
    "elif (x == 3):\n",
    "    print(\"the number is 3\")\n",
    "else:\n",
    "    print(\"x is a different number\")\n"
   ]
  },
  {
   "cell_type": "code",
   "execution_count": 68,
   "metadata": {},
   "outputs": [
    {
     "name": "stdout",
     "output_type": "stream",
     "text": [
      "The values are not the same\n"
     ]
    }
   ],
   "source": [
    "if 1 == 2:\n",
    "    print(\"1 = 1\")\n",
    "else:\n",
    "    print(\"The values are not the same\")"
   ]
  },
  {
   "cell_type": "markdown",
   "metadata": {},
   "source": [
    "Can be done with varables:"
   ]
  },
  {
   "cell_type": "code",
   "execution_count": 69,
   "metadata": {},
   "outputs": [
    {
     "name": "stdout",
     "output_type": "stream",
     "text": [
      "Satinder is your trainer.\n"
     ]
    }
   ],
   "source": [
    "if user_name == \"Donna\":\n",
    "    print(\"Donna is your trainer.\")\n",
    "elif user_name == \"Suzannah\":\n",
    "    print(\"Suzannah is your trainer.\")\n",
    "else:\n",
    "    print(user_name, \"is your trainer.\")"
   ]
  },
  {
   "cell_type": "markdown",
   "metadata": {},
   "source": [
    "## User Input and Casting"
   ]
  },
  {
   "cell_type": "code",
   "execution_count": 72,
   "metadata": {},
   "outputs": [],
   "source": [
    "user_input = input(\"What is your name? \")"
   ]
  },
  {
   "cell_type": "code",
   "execution_count": 73,
   "metadata": {
    "tags": []
   },
   "outputs": [
    {
     "name": "stdout",
     "output_type": "stream",
     "text": [
      "Hello Andy! Hope you are well!\n"
     ]
    }
   ],
   "source": [
    "print(\"Hello\", user_input + \"!\", \"Hope you are well!\")"
   ]
  },
  {
   "cell_type": "code",
   "execution_count": 75,
   "metadata": {},
   "outputs": [
    {
     "name": "stdout",
     "output_type": "stream",
     "text": [
      "In two years time you will be.... 35 years old\n"
     ]
    }
   ],
   "source": [
    "user_input_age = input(\"What is your age? \")\n",
    "print(\"In two years time you will be....\", int(user_input_age) + 2, \"years old\")"
   ]
  },
  {
   "cell_type": "code",
   "execution_count": 79,
   "metadata": {
    "tags": []
   },
   "outputs": [
    {
     "name": "stdout",
     "output_type": "stream",
     "text": [
      "In two years time you will be.... 332 years old\n"
     ]
    }
   ],
   "source": [
    "user_input_age = int(input(\"What is your age? \"))\n",
    "print(\"In two years time you will be....\", user_input_age + 2, \"years old\")"
   ]
  },
  {
   "cell_type": "markdown",
   "metadata": {},
   "source": [
    "Casting changes a Data Type into another one"
   ]
  },
  {
   "cell_type": "code",
   "execution_count": null,
   "metadata": {},
   "outputs": [],
   "source": [
    "into_int   = int(\"23\")\n",
    "into_float = float(\"23\")\n",
    "into_str   = str(23)"
   ]
  },
  {
   "cell_type": "markdown",
   "metadata": {},
   "source": [
    "## Iteration"
   ]
  },
  {
   "cell_type": "code",
   "execution_count": 87,
   "metadata": {},
   "outputs": [
    {
     "name": "stdout",
     "output_type": "stream",
     "text": [
      "The value of i is: 0\n",
      "The value of i is: 1\n",
      "The value of i is: 2\n",
      "The value of i is: 3\n",
      "The value of i is: 4\n",
      "The value of i is: 5\n",
      "The value of i is: 6\n",
      "The value of i is: 7\n",
      "The value of i is: 8\n",
      "The value of i is: 9\n",
      "The value of i is: 10\n"
     ]
    }
   ],
   "source": [
    "for i in range(11): #(starting, ending, steps) -> default: (0,number provided, 1)\n",
    "    print(\"The value of i is:\", i)"
   ]
  },
  {
   "cell_type": "code",
   "execution_count": 91,
   "metadata": {},
   "outputs": [
    {
     "name": "stdout",
     "output_type": "stream",
     "text": [
      "The value of i is: 0\n",
      "The value of i is: 2\n",
      "The value of i is: 4\n",
      "The value of i is: 6\n",
      "The value of i is: 8\n",
      "The value of i is: 10\n",
      "The value of i is: 12\n"
     ]
    }
   ],
   "source": [
    "i = 0\n",
    "\n",
    "while i <= 12:\n",
    "    print(\"The value of i is:\", i)\n",
    "    i += 2 # Short hand for i = i + 1"
   ]
  },
  {
   "cell_type": "code",
   "execution_count": 92,
   "metadata": {},
   "outputs": [
    {
     "name": "stdout",
     "output_type": "stream",
     "text": [
      "14\n"
     ]
    }
   ],
   "source": [
    "print(i)"
   ]
  },
  {
   "cell_type": "code",
   "execution_count": 93,
   "metadata": {},
   "outputs": [],
   "source": [
    "import random\n",
    "\n",
    "number2 = random.randint(0,10)"
   ]
  },
  {
   "cell_type": "code",
   "execution_count": 94,
   "metadata": {},
   "outputs": [
    {
     "name": "stdout",
     "output_type": "stream",
     "text": [
      "7\n"
     ]
    }
   ],
   "source": [
    "print(number2)"
   ]
  },
  {
   "cell_type": "code",
   "execution_count": null,
   "metadata": {},
   "outputs": [],
   "source": []
  }
 ],
 "metadata": {
  "kernelspec": {
   "display_name": "Python 3",
   "language": "python",
   "name": "python3"
  },
  "language_info": {
   "codemirror_mode": {
    "name": "ipython",
    "version": 3
   },
   "file_extension": ".py",
   "mimetype": "text/x-python",
   "name": "python",
   "nbconvert_exporter": "python",
   "pygments_lexer": "ipython3",
   "version": "3.7.9"
  }
 },
 "nbformat": 4,
 "nbformat_minor": 4
}