{
 "cells": [
  {
   "cell_type": "markdown",
   "metadata": {},
   "source": [
    "## Task 1"
   ]
  },
  {
   "cell_type": "code",
   "execution_count": 3,
   "metadata": {},
   "outputs": [
    {
     "ename": "IndentationError",
     "evalue": "expected an indented block (<ipython-input-3-6f84e83c8b9a>, line 7)",
     "output_type": "error",
     "traceback": [
      "\u001b[1;36m  File \u001b[1;32m\"<ipython-input-3-6f84e83c8b9a>\"\u001b[1;36m, line \u001b[1;32m7\u001b[0m\n\u001b[1;33m    print(\"You got it correct!, well done!\")\u001b[0m\n\u001b[1;37m        ^\u001b[0m\n\u001b[1;31mIndentationError\u001b[0m\u001b[1;31m:\u001b[0m expected an indented block\n"
     ]
    }
   ],
   "source": [
    "import random\n",
    "rand_num = random.randint(1,10)\n",
    "user_name    = input(\"What is your name? \")\n",
    "guess_number = int(input(\"Select a number between 1 and 10\"))\n",
    "\n",
    "if rand_num == guess_number:\n",
    "    print(\"You got it correct!, well done!\")\n",
    "    \n",
    "else:\n",
    "    print(\"You got it wrong, it was not:\", guess_number, \"it was:\", rand_num)"
   ]
  },
  {
   "cell_type": "markdown",
   "metadata": {},
   "source": [
    "## Task 2"
   ]
  },
  {
   "cell_type": "code",
   "execution_count": null,
   "metadata": {},
   "outputs": [],
   "source": [
    "number = int(input(\"Select a number between 0 and 100\"))\n",
    "\n",
    "if number < 30:\n",
    "    print(\"Joke 1\")\n",
    "elif number < 60:\n",
    "    print(\"Joke 2\")\n",
    "elif number >= 60:\n",
    "    print(\"Joke 3\")"
   ]
  },
  {
   "cell_type": "markdown",
   "metadata": {},
   "source": [
    "## Task 3"
   ]
  },
  {
   "cell_type": "code",
   "execution_count": 1,
   "metadata": {},
   "outputs": [
    {
     "name": "stdout",
     "output_type": "stream",
     "text": [
      "What is your favourite starter?  calamari\n",
      "What is your favourite main course?  duck\n",
      "What is your favourite dessert?  cheesecake\n",
      "What is your favourite drink?  wine\n"
     ]
    },
    {
     "name": "stdout",
     "output_type": "stream",
     "text": [
      "Your favourite meal is calamari as a starter, a duck as a main and cheesecake as your dessert. With a drink of wine .\n"
     ]
    }
   ],
   "source": [
    "starter  = input(\"What is your favourite starter? \")\n",
    "main    = input(\"What is your favourite main course? \")\n",
    "dessert = input(\"What is your favourite dessert? \")\n",
    "drink   = input(\"What is your favourite drink? \")\n",
    "\n",
    "print(\"Your favourite meal is\", starter, \"as a starter, a\", main, \"as a main and\", dessert, \"as your dessert. With a drink of\", drink, \".\")"
   ]
  },
  {
   "cell_type": "markdown",
   "metadata": {},
   "source": [
    "## Task 4"
   ]
  },
  {
   "cell_type": "code",
   "execution_count": 1,
   "metadata": {},
   "outputs": [
    {
     "name": "stdout",
     "output_type": "stream",
     "text": [
      "The bike is worth: 2000\n",
      "The bike is worth: 1800.0\n",
      "The bike is worth: 1620.0\n",
      "The bike is worth: 1458.0\n",
      "The bike is worth: 1312.2\n",
      "The bike is worth: 1180.98\n",
      "The bike is worth: 1062.882\n"
     ]
    }
   ],
   "source": [
    "bike_value = 2000\n",
    "\n",
    "while bike_value > 1000:\n",
    "    print(\"The bike is worth:\", bike_value)\n",
    "    bike_value *= 0.90"
   ]
  },
  {
   "cell_type": "markdown",
   "metadata": {},
   "source": [
    "## Task 5"
   ]
  },
  {
   "cell_type": "code",
   "execution_count": null,
   "metadata": {},
   "outputs": [],
   "source": [
    "num_1 = int(input(\"Please enter a number: \"))\n",
    "num_2 = int(input(\"Please enter a second number: \"))\n",
    "sign = input(\"Please enter a operator choice (+,-,/,*,**,%,//): \")\n",
    "\n",
    "if sign == \"+\":\n",
    "    print(num_1+num_2)\n",
    "elif sign == \"-\":\n",
    "    print(num_1 - num_2)\n",
    "elif sign == \"/\":\n",
    "    print(num_1 / num_2)\n",
    "elif sign == \"*\":\n",
    "    print(num_1 * num_2)\n",
    "elif sign == \"**\":\n",
    "    print(num_1 ** num_2)\n",
    "elif sign == \"%\":\n",
    "    print(num_1 % num_2)\n",
    "elif sign == \"//\":\n",
    "    print(num_1 // num_2)\n",
    "else:\n",
    "    print(\"An appropriate operator was not selected!\")"
   ]
  }
 ],
 "metadata": {
  "interpreter": {
   "hash": "ac59ebe37160ed0dfa835113d9b8498d9f09ceb179beaac4002f036b9467c963"
  },
  "kernelspec": {
   "display_name": "Python 3.9.5 64-bit",
   "name": "python3"
  },
  "language_info": {
   "codemirror_mode": {
    "name": "ipython",
    "version": 3
   },
   "file_extension": ".py",
   "mimetype": "text/x-python",
   "name": "python",
   "nbconvert_exporter": "python",
   "pygments_lexer": "ipython3",
   "version": "3.9.5"
  }
 },
 "nbformat": 4,
 "nbformat_minor": 4
}
